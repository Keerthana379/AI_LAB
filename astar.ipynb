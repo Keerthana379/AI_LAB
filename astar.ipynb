{
 "cells": [
  {
   "cell_type": "code",
   "execution_count": 1,
   "id": "ea839922",
   "metadata": {},
   "outputs": [
    {
     "name": "stdout",
     "output_type": "stream",
     "text": [
      "Cost: 6\n",
      "Path: a -> b -> d\n"
     ]
    }
   ],
   "source": [
    "class G:\n",
    "    def __init__(self,m,h):\n",
    "        self.m=m\n",
    "        self.h=h\n",
    "        \n",
    "    def aStarPathFinder(self,start,end):\n",
    "        l = [(start,self.h[start],start)]\n",
    "        while len(l)>0:\n",
    "            cn,cc,cp=l.pop(0)\n",
    "            if cn==end:\n",
    "                return (cc-self.h[end],cp)\n",
    "            for node, cost in self.m[cn]:\n",
    "                cost += (cc-self.h[cn]+self.h[node])\n",
    "                l.append((node,cost,f\"{cp} -> {node}\"))\n",
    "            l.sort(key=lambda x:x[1])\n",
    "        return \"No path exists\"\n",
    "\n",
    "h = {'a':1,'b':1,'c':1,'d':1}\n",
    "a = {'a':[('b',1),('c',3),('d',7)], 'b':[('d',5)],'c':[('d',12)]}\n",
    "\n",
    "g = G(a,h)\n",
    "cost, path = g.aStarPathFinder('a','d')\n",
    "print(\"Cost:\",cost)\n",
    "print(\"Path:\",path)"
   ]
  }
 ],
 "metadata": {
  "kernelspec": {
   "display_name": "Python 3 (ipykernel)",
   "language": "python",
   "name": "python3"
  },
  "language_info": {
   "codemirror_mode": {
    "name": "ipython",
    "version": 3
   },
   "file_extension": ".py",
   "mimetype": "text/x-python",
   "name": "python",
   "nbconvert_exporter": "python",
   "pygments_lexer": "ipython3",
   "version": "3.9.7"
  }
 },
 "nbformat": 4,
 "nbformat_minor": 5
}
