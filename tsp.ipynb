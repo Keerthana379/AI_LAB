{
 "cells": [
  {
   "cell_type": "code",
   "execution_count": 2,
   "id": "8de8f7d0",
   "metadata": {},
   "outputs": [
    {
     "name": "stdout",
     "output_type": "stream",
     "text": [
      "80\n"
     ]
    }
   ],
   "source": [
    "#tsp\n",
    "from itertools import permutations\n",
    "\n",
    "def tsp(G,s):\n",
    "    vertices = list(range(len(G)))\n",
    "    vertices.pop(s)\n",
    "    ways = permutations(vertices)\n",
    "    min_cost=10000000\n",
    "    \n",
    "    for way in ways:\n",
    "        cost = 0\n",
    "        c = s\n",
    "        for n in way:\n",
    "            cost += G[c][n]\n",
    "            c = n\n",
    "            \n",
    "        cost += G[c][s]\n",
    "        if cost<min_cost:\n",
    "            min_cost = cost \n",
    "    return min_cost\n",
    "            \n",
    "if __name__ == '__main__':\n",
    "    G = [\n",
    "        [0,10,15,20],\n",
    "        [10,0,15,20],\n",
    "        [10,15,0,20],\n",
    "        [10,15,20,0]\n",
    "    ]\n",
    "    s = 0\n",
    "    print(tsp(G,s))"
   ]
  },
  {
   "cell_type": "code",
   "execution_count": null,
   "id": "88fc8a8c",
   "metadata": {},
   "outputs": [],
   "source": []
  }
 ],
 "metadata": {
  "kernelspec": {
   "display_name": "Python 3 (ipykernel)",
   "language": "python",
   "name": "python3"
  },
  "language_info": {
   "codemirror_mode": {
    "name": "ipython",
    "version": 3
   },
   "file_extension": ".py",
   "mimetype": "text/x-python",
   "name": "python",
   "nbconvert_exporter": "python",
   "pygments_lexer": "ipython3",
   "version": "3.9.7"
  }
 },
 "nbformat": 4,
 "nbformat_minor": 5
}
