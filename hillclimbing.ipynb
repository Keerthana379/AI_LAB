{
 "cells": [
  {
   "cell_type": "code",
   "execution_count": 11,
   "id": "1ab1bfaf",
   "metadata": {},
   "outputs": [
    {
     "name": "stdout",
     "output_type": "stream",
     "text": [
      "([1, 2, 3, 0], 700)\n"
     ]
    }
   ],
   "source": [
    "import random\n",
    "\n",
    "def RS(tsp):\n",
    "    c = list(range(len(tsp)))\n",
    "    s = []\n",
    "    for i in range(len(c)):\n",
    "        rs = c[random.randint(0,len(c)-1)]\n",
    "        s.append(rs)\n",
    "        c.remove(rs)\n",
    "    return s\n",
    "\n",
    "def RL(tsp,s):\n",
    "    rl = 0\n",
    "    for i in range(len(s)):\n",
    "        rl += tsp[s[i-1]][s[i]]\n",
    "    return rl\n",
    "\n",
    "def GN(s):\n",
    "    n = []\n",
    "    for i in range(len(s)):\n",
    "        for j in range(i+1,len(s)):\n",
    "            neighbour = s.copy()\n",
    "            neighbour[i] = s[j]\n",
    "            neighbour[j] = s[i]\n",
    "            n.append(neighbour)\n",
    "    return n\n",
    "\n",
    "def GBN(tsp,n):\n",
    "    brl = RL(tsp,n[0])\n",
    "    bn = n[0]\n",
    "    for neighbour in n:\n",
    "        crl = RL(tsp, neighbour)\n",
    "        if crl<brl:\n",
    "            brl = crl\n",
    "            bn = neighbour\n",
    "    return bn,brl\n",
    "\n",
    "def hillClimbing(tsp):\n",
    "    cs = RS(tsp)\n",
    "    crl = RL(tsp,cs)\n",
    "    n = GN(cs)\n",
    "    bn, bnrl = GBN(tsp,n)\n",
    "    while bnrl<crl:\n",
    "        cs = bn\n",
    "        crl = bnrl\n",
    "        n = GN(cs)\n",
    "        bn, bnrl = GBN(tsp,n)\n",
    "    return cs, crl\n",
    "\n",
    "if __name__=='__main__':\n",
    "    tsp = [\n",
    "        [0,100,200,300],\n",
    "        [100,0,200,300],\n",
    "        [100,200,0,300],\n",
    "        [100,200,300,0]\n",
    "    ]\n",
    "    print(hillClimbing(tsp))\n",
    "    "
   ]
  },
  {
   "cell_type": "code",
   "execution_count": null,
   "id": "e7165b7f",
   "metadata": {},
   "outputs": [],
   "source": []
  }
 ],
 "metadata": {
  "kernelspec": {
   "display_name": "Python 3 (ipykernel)",
   "language": "python",
   "name": "python3"
  },
  "language_info": {
   "codemirror_mode": {
    "name": "ipython",
    "version": 3
   },
   "file_extension": ".py",
   "mimetype": "text/x-python",
   "name": "python",
   "nbconvert_exporter": "python",
   "pygments_lexer": "ipython3",
   "version": "3.9.7"
  }
 },
 "nbformat": 4,
 "nbformat_minor": 5
}
