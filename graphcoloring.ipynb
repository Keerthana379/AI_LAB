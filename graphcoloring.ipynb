{
 "cells": [
  {
   "cell_type": "code",
   "execution_count": 4,
   "id": "8986bfbc",
   "metadata": {},
   "outputs": [
    {
     "name": "stdout",
     "output_type": "stream",
     "text": [
      "Solution exists: Following are the vertices of the graph\n",
      "vertex  1 is given color: 1\n",
      "vertex  2 is given color: 2\n",
      "vertex  3 is given color: 3\n",
      "vertex  4 is given color: 2\n"
     ]
    }
   ],
   "source": [
    "#map coloring using CSP\n",
    "def isSafe(g, color):\n",
    "    for i in range(4):\n",
    "        for j in range(i+1,4):\n",
    "            if(g[i][j] and color[j]==color[i]):\n",
    "                return False\n",
    "    return True\n",
    "\n",
    "def graphColoring(g, m, i, color):\n",
    "    if(i == 4):\n",
    "        if(isSafe(g, color)):\n",
    "            display(color)\n",
    "            return True\n",
    "        return False\n",
    "    for j in range(1,m+1):\n",
    "        color[i] = j\n",
    "        if(graphColoring(g,m,i+1,color)):\n",
    "            return True\n",
    "        color[i]=0\n",
    "    return False\n",
    "\n",
    "def display(color):\n",
    "    print(\"Solution exists: Following are the vertices of the graph\")\n",
    "    for i in range(4):\n",
    "        print(\"vertex \",i+1,\"is given color:\",color[i])\n",
    "if __name__ == '__main__':\n",
    "    g =[\n",
    "        [0,1,1,1],\n",
    "        [1,0,1,0],\n",
    "        [1,1,0,1],\n",
    "        [1,1,1,0]\n",
    "    ]\n",
    "    m = 3\n",
    "    color = [0 for i in range(4)]\n",
    "    if (not graphColoring(g, m, 0, color)):\n",
    "        print(\"Solution does not exist\")"
   ]
  },
  {
   "cell_type": "code",
   "execution_count": null,
   "id": "db74a4d9",
   "metadata": {},
   "outputs": [],
   "source": []
  }
 ],
 "metadata": {
  "kernelspec": {
   "display_name": "Python 3 (ipykernel)",
   "language": "python",
   "name": "python3"
  },
  "language_info": {
   "codemirror_mode": {
    "name": "ipython",
    "version": 3
   },
   "file_extension": ".py",
   "mimetype": "text/x-python",
   "name": "python",
   "nbconvert_exporter": "python",
   "pygments_lexer": "ipython3",
   "version": "3.9.7"
  }
 },
 "nbformat": 4,
 "nbformat_minor": 5
}
