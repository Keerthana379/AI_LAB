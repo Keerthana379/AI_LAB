{
 "cells": [
  {
   "cell_type": "code",
   "execution_count": 8,
   "id": "47f4260b",
   "metadata": {},
   "outputs": [
    {
     "name": "stdout",
     "output_type": "stream",
     "text": [
      "Result [('croaks', 'frogs'), ('eats flies', 'frogs'), ('frogs', 'green')]\n"
     ]
    }
   ],
   "source": [
    "#forward chaining\n",
    "facts = [['croaks','frogs'],['eats flies','frogs'],['frogs','green'],\n",
    "         ['chrip','canary'],['sing','canary'],['canary','yellow']]\n",
    "\n",
    "def check(knowns, facts):\n",
    "    r = []\n",
    "    for known in knowns:\n",
    "        for a,b in facts:\n",
    "            if known == a and (a,b) not in r:\n",
    "                r.append((a,b))\n",
    "                knowns.append(b)\n",
    "    return r   \n",
    "print(\"Result\",check(['croaks','eats flies'], facts))"
   ]
  },
  {
   "cell_type": "code",
   "execution_count": null,
   "id": "6bd30f06",
   "metadata": {},
   "outputs": [],
   "source": []
  }
 ],
 "metadata": {
  "kernelspec": {
   "display_name": "Python 3 (ipykernel)",
   "language": "python",
   "name": "python3"
  },
  "language_info": {
   "codemirror_mode": {
    "name": "ipython",
    "version": 3
   },
   "file_extension": ".py",
   "mimetype": "text/x-python",
   "name": "python",
   "nbconvert_exporter": "python",
   "pygments_lexer": "ipython3",
   "version": "3.9.7"
  }
 },
 "nbformat": 4,
 "nbformat_minor": 5
}
