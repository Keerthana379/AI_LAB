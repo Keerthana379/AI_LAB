{
 "cells": [
  {
   "cell_type": "code",
   "execution_count": null,
   "id": "76a1dc58",
   "metadata": {},
   "outputs": [
    {
     "name": "stdout",
     "output_type": "stream",
     "text": [
      ">hi\n",
      "whatsup?\n",
      ">morninh\n",
      "None\n",
      ">morning\n",
      "happy morning\n"
     ]
    }
   ],
   "source": [
    "#chat bot\n",
    "from nltk.chat.util import Chat, reflections\n",
    "\n",
    "pairs = [\n",
    "    ['hi',['whatsup?']],\n",
    "    ['morning',['happy morning']],\n",
    "    ['evening',['wonderful evening']],\n",
    "    ['how are you',['I am good hope your are also doing good']],\n",
    "    ['what is your name',['I am a chat bot']],\n",
    "    ['tell me a joke',['I am a doggy']],\n",
    "    ['Full form of AI',['Artificial Intelligence']],\n",
    "    ['what is favourite color',['white']],\n",
    "    ['need help',['how can i help you']],\n",
    "    ['where is mom',['she is in the kitchen']],\n",
    "    \n",
    "]\n",
    "\n",
    "chat = Chat(pairs, reflections)\n",
    "chat.converse()"
   ]
  },
  {
   "cell_type": "code",
   "execution_count": null,
   "id": "576ebbdf",
   "metadata": {},
   "outputs": [],
   "source": []
  }
 ],
 "metadata": {
  "kernelspec": {
   "display_name": "Python 3 (ipykernel)",
   "language": "python",
   "name": "python3"
  },
  "language_info": {
   "codemirror_mode": {
    "name": "ipython",
    "version": 3
   },
   "file_extension": ".py",
   "mimetype": "text/x-python",
   "name": "python",
   "nbconvert_exporter": "python",
   "pygments_lexer": "ipython3",
   "version": "3.9.7"
  }
 },
 "nbformat": 4,
 "nbformat_minor": 5
}
