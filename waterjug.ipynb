{
 "cells": [
  {
   "cell_type": "code",
   "execution_count": 7,
   "id": "d51d70fc",
   "metadata": {},
   "outputs": [
    {
     "name": "stdout",
     "output_type": "stream",
     "text": [
      "steps:\n",
      "0 0\n",
      "4 0\n",
      "4 3\n",
      "0 3\n",
      "3 0\n",
      "3 3\n",
      "4 2\n",
      "0 2\n"
     ]
    },
    {
     "data": {
      "text/plain": [
       "True"
      ]
     },
     "execution_count": 7,
     "metadata": {},
     "output_type": "execute_result"
    }
   ],
   "source": [
    "#waterjug\n",
    "from collections import defaultdict\n",
    "j1,j2,aim = 4,3,2\n",
    "visited = defaultdict(lambda:False)\n",
    "\n",
    "def wjs(a1,a2):\n",
    "    if(a1==aim and a2==0) or (a2==aim and a1==0):\n",
    "        print(a1,a2)\n",
    "        return True\n",
    "    if visited[(a1,a2)]==False:\n",
    "        print(a1,a2)\n",
    "        visited[(a1,a2)]=True\n",
    "        return (wjs(0,a2) or\n",
    "                wjs(a1,0) or\n",
    "                wjs(j1,a2) or\n",
    "                wjs(a1,j2) or\n",
    "                wjs(a1+min(a2,(j1-a1)), a2-min(a2,(j1-a1))) or\n",
    "                wjs(a1-min(a1,(j2-a2)), a2+min(a1,(j2-a2))))\n",
    "    else:\n",
    "        return False\n",
    "\n",
    "print(\"steps:\")\n",
    "wjs(0,0)\n",
    "    "
   ]
  },
  {
   "cell_type": "code",
   "execution_count": null,
   "id": "c9144260",
   "metadata": {},
   "outputs": [],
   "source": []
  }
 ],
 "metadata": {
  "kernelspec": {
   "display_name": "Python 3 (ipykernel)",
   "language": "python",
   "name": "python3"
  },
  "language_info": {
   "codemirror_mode": {
    "name": "ipython",
    "version": 3
   },
   "file_extension": ".py",
   "mimetype": "text/x-python",
   "name": "python",
   "nbconvert_exporter": "python",
   "pygments_lexer": "ipython3",
   "version": "3.9.7"
  }
 },
 "nbformat": 4,
 "nbformat_minor": 5
}
