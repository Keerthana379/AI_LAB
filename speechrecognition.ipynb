{
 "cells": [
  {
   "cell_type": "code",
   "execution_count": 3,
   "id": "c8d3f943",
   "metadata": {},
   "outputs": [
    {
     "name": "stdout",
     "output_type": "stream",
     "text": [
      "Speak something\n",
      "Done listening, please wait while processing\n",
      "Sorry, We could not identify ur speech\n"
     ]
    }
   ],
   "source": [
    "#speech conversion\n",
    "import speech_recognition as sr\n",
    "r = sr.Recognizer()\n",
    "with sr.Microphone() as source:\n",
    "    print(\"Speak something\")\n",
    "    audio=r.listen(source, timeout=5,phrase_time_limit=20)\n",
    "    print(\"Done listening, please wait while processing\")\n",
    "    try:\n",
    "        text = r.recognize_google(audio)\n",
    "        print(\"You sai:{}\".format(text))\n",
    "    except:\n",
    "        print(\"Sorry, We could not identify ur speech\")"
   ]
  },
  {
   "cell_type": "code",
   "execution_count": null,
   "id": "62e7c1f1",
   "metadata": {},
   "outputs": [],
   "source": []
  }
 ],
 "metadata": {
  "kernelspec": {
   "display_name": "Python 3 (ipykernel)",
   "language": "python",
   "name": "python3"
  },
  "language_info": {
   "codemirror_mode": {
    "name": "ipython",
    "version": 3
   },
   "file_extension": ".py",
   "mimetype": "text/x-python",
   "name": "python",
   "nbconvert_exporter": "python",
   "pygments_lexer": "ipython3",
   "version": "3.9.7"
  }
 },
 "nbformat": 4,
 "nbformat_minor": 5
}
