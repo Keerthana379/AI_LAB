{
 "cells": [
  {
   "cell_type": "code",
   "execution_count": 3,
   "id": "c3f3a4b8",
   "metadata": {},
   "outputs": [
    {
     "name": "stdout",
     "output_type": "stream",
     "text": [
      "Random monkeys\n",
      "[Monkey with 16 bananas, Monkey with 1 bananas, Monkey with 11 bananas, Monkey with 37 bananas, Monkey with 1 bananas]\n",
      "Bananas with monkey(First monkey): 16\n",
      "Max bananas: Monkey with 37 bananas\n"
     ]
    }
   ],
   "source": [
    "#monkeybanana\n",
    "from random import randint\n",
    "class C:\n",
    "    def __init__(self, b):\n",
    "        self.b = b\n",
    "    def __repr__(self):\n",
    "        return \"Monkey with %d bananas\"%self.b\n",
    "M = [C(randint(0,50)) for i in range(5)]\n",
    "\n",
    "print(\"Random monkeys\")\n",
    "print(M)\n",
    "\n",
    "def NOB(monkey):\n",
    "    return monkey.b\n",
    "\n",
    "print(\"Bananas with monkey(First monkey):\",NOB(M[0]))\n",
    "print(\"Max bananas:\",max(M,key=NOB))"
   ]
  },
  {
   "cell_type": "code",
   "execution_count": null,
   "id": "52d191ea",
   "metadata": {},
   "outputs": [],
   "source": []
  }
 ],
 "metadata": {
  "kernelspec": {
   "display_name": "Python 3 (ipykernel)",
   "language": "python",
   "name": "python3"
  },
  "language_info": {
   "codemirror_mode": {
    "name": "ipython",
    "version": 3
   },
   "file_extension": ".py",
   "mimetype": "text/x-python",
   "name": "python",
   "nbconvert_exporter": "python",
   "pygments_lexer": "ipython3",
   "version": "3.9.7"
  }
 },
 "nbformat": 4,
 "nbformat_minor": 5
}
