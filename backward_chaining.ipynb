{
 "cells": [
  {
   "cell_type": "code",
   "execution_count": 4,
   "id": "f598af13",
   "metadata": {},
   "outputs": [
    {
     "name": "stdout",
     "output_type": "stream",
     "text": [
      "Result: [('frogs', 'green'), ('croaks', 'frogs'), ('eats flies', 'frogs')]\n"
     ]
    }
   ],
   "source": [
    "#backword chaining\n",
    "facts = [['croaks','frogs'],['eats flies','frogs'],['frogs','green'],\n",
    "         ['chips','canary'],['sing','canary'],['canary','yellow']]\n",
    "def check(knowns, facts):\n",
    "    r = []\n",
    "    for known in knowns:\n",
    "        for a,b in facts:\n",
    "            if known==b and (a,b) not in r:\n",
    "                r.append((a,b))\n",
    "                knowns.append(a)\n",
    "    return r\n",
    "\n",
    "print(\"Result:\",check(['green'],facts))"
   ]
  },
  {
   "cell_type": "code",
   "execution_count": null,
   "id": "2a08697f",
   "metadata": {},
   "outputs": [],
   "source": []
  }
 ],
 "metadata": {
  "kernelspec": {
   "display_name": "Python 3 (ipykernel)",
   "language": "python",
   "name": "python3"
  },
  "language_info": {
   "codemirror_mode": {
    "name": "ipython",
    "version": 3
   },
   "file_extension": ".py",
   "mimetype": "text/x-python",
   "name": "python",
   "nbconvert_exporter": "python",
   "pygments_lexer": "ipython3",
   "version": "3.9.7"
  }
 },
 "nbformat": 4,
 "nbformat_minor": 5
}
